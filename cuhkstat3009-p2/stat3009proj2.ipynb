{
 "cells": [
  {
   "cell_type": "markdown",
   "id": "b55847bd",
   "metadata": {
    "tags": []
   },
   "source": [
    "# CUHK STAT3009 Recommender Systems Project 2"
   ]
  },
  {
   "cell_type": "markdown",
   "id": "aae68171",
   "metadata": {
    "tags": []
   },
   "source": [
    "## Import datasets and loss metric"
   ]
  },
  {
   "cell_type": "code",
   "execution_count": null,
   "id": "3f8a143b",
   "metadata": {},
   "outputs": [],
   "source": [
    "import numpy as np\n",
    "import pandas as pd\n",
    "\n",
    "dtrain = pd.read_csv('train.csv', usecols=['userID', 'itemID', 'genre', 'rating', 'date'])\n",
    "dtest = pd.read_csv('test.csv', usecols=['userID', 'itemID', 'genre', 'date'])\n",
    "dnetwork = pd.read_csv('user_social_net.csv', usecols=['from', 'to'])\n",
    "\n",
    "def rmse(true, pred):\n",
    "\treturn np.sqrt(np.mean((pred - true)**2))"
   ]
  },
  {
   "cell_type": "markdown",
   "id": "7de3bb4b",
   "metadata": {
    "tags": []
   },
   "source": [
    "### Overview of the dataset"
   ]
  },
  {
   "cell_type": "code",
   "execution_count": null,
   "id": "72af1261",
   "metadata": {},
   "outputs": [],
   "source": [
    "dtrain.sample(5)"
   ]
  },
  {
   "cell_type": "code",
   "execution_count": null,
   "id": "475ed170",
   "metadata": {},
   "outputs": [],
   "source": [
    "dtrain.info()"
   ]
  },
  {
   "cell_type": "code",
   "execution_count": null,
   "id": "b8b3aa72",
   "metadata": {},
   "outputs": [],
   "source": [
    "dtest.sample(5)"
   ]
  },
  {
   "cell_type": "code",
   "execution_count": null,
   "id": "43853feb",
   "metadata": {},
   "outputs": [],
   "source": [
    "dtest.info()"
   ]
  },
  {
   "cell_type": "code",
   "execution_count": null,
   "id": "50dd8a99",
   "metadata": {},
   "outputs": [],
   "source": [
    "dnetwork.sample(5)"
   ]
  },
  {
   "cell_type": "code",
   "execution_count": null,
   "id": "53223d76",
   "metadata": {},
   "outputs": [],
   "source": [
    "dnetwork.info()"
   ]
  },
  {
   "cell_type": "markdown",
   "id": "bcb76e99",
   "metadata": {
    "tags": []
   },
   "source": [
    "### Network dataset"
   ]
  },
  {
   "cell_type": "code",
   "execution_count": null,
   "id": "3a4b3d9d",
   "metadata": {},
   "outputs": [],
   "source": [
    "print(\"No. of unique users only exist in social network or in train dataset:\", \n",
    "      len(list(set(dnetwork[\"from\"]).union(dnetwork[\"to\"]).symmetric_difference(set(dtrain[\"userID\"])))))\n",
    "print(\"No. of users follow themselves: \", len(dnetwork[dnetwork['from'] == dnetwork['to']]))"
   ]
  },
  {
   "cell_type": "code",
   "execution_count": null,
   "id": "1dd12001",
   "metadata": {},
   "outputs": [],
   "source": [
    "print('No. of unique users in train dataset following others: ', \n",
    "      len(pd.unique(dtrain['userID'][dtrain[\"userID\"].isin(dnetwork[\"from\"])])))\n",
    "print('No. of unique users in train dataset followed by others: ', \n",
    "      len(pd.unique(dtrain['userID'][dtrain[\"userID\"].isin(dnetwork[\"to\"])])))"
   ]
  },
  {
   "cell_type": "markdown",
   "id": "55e1fef6-1fb8-4d33-b2fe-8a042079aef5",
   "metadata": {
    "tags": []
   },
   "source": [
    "### Genre"
   ]
  },
  {
   "cell_type": "code",
   "execution_count": null,
   "id": "ac0c14f4",
   "metadata": {},
   "outputs": [],
   "source": [
    "print(\"Total No. of unique genre in train dataset: \", len(dtrain[\"genre\"].unique()))\n",
    "\n",
    "print(\"Same unique genre in both datasets: \", \n",
    "      (set(dtrain[\"genre\"]) == set(dtest[\"genre\"].unique())))"
   ]
  },
  {
   "cell_type": "code",
   "execution_count": null,
   "id": "5b4c91d2",
   "metadata": {},
   "outputs": [],
   "source": [
    "print(\"The genre are \", np.sort(dtrain[\"genre\"].unique()))"
   ]
  },
  {
   "cell_type": "code",
   "execution_count": null,
   "id": "27966d31",
   "metadata": {},
   "outputs": [],
   "source": [
    "for i in np.sort(dtrain[\"genre\"].unique()):\n",
    "    num = len(dtrain[\"itemID\"][dtrain['genre'] == i])\n",
    "    print(f\"For {i}, there are {num} items in train dataset\")\n",
    "    \n",
    "    num = len(dtest[\"itemID\"][dtest['genre'] == i])\n",
    "    print(f\"For {i}, there are {num} items in test dataset\\n\")"
   ]
  },
  {
   "cell_type": "markdown",
   "id": "fa3ec1f7-1f72-4ad2-8cdb-c250d9fc3fff",
   "metadata": {
    "tags": []
   },
   "source": [
    "### Date"
   ]
  },
  {
   "cell_type": "code",
   "execution_count": null,
   "id": "85871262",
   "metadata": {},
   "outputs": [],
   "source": [
    "print(\"Range of dates in train data: \" + min(dtrain['date']) + \" - \" + max(dtrain[\"date\"]))\n",
    "print(\"Range of dates in train data: \" + min(dtest['date']) + \" - \" + max(dtest[\"date\"]))"
   ]
  },
  {
   "cell_type": "code",
   "execution_count": null,
   "id": "8f03f113",
   "metadata": {},
   "outputs": [],
   "source": [
    "print(\"Range of rating: %f - %f\" %(min(dtrain['rating']), max(dtrain['rating'])))"
   ]
  },
  {
   "cell_type": "markdown",
   "id": "0521554c",
   "metadata": {
    "tags": []
   },
   "source": [
    "## Data Cleansing"
   ]
  },
  {
   "cell_type": "markdown",
   "id": "ebd0d855",
   "metadata": {
    "tags": []
   },
   "source": [
    "### Convert 'date' from object to datatime object"
   ]
  },
  {
   "cell_type": "code",
   "execution_count": null,
   "id": "e651d6b6",
   "metadata": {},
   "outputs": [],
   "source": [
    "dtrain['date'] = pd.to_datetime(dtrain['date'], format = '%Y-%m')\n",
    "dtest['date'] = pd.to_datetime(dtest['date'], format = '%Y-%m')"
   ]
  },
  {
   "cell_type": "code",
   "execution_count": null,
   "id": "36c91d8a",
   "metadata": {},
   "outputs": [],
   "source": [
    "dtrain[\"month\"] = dtrain['date'].dt.month.astype('category')\n",
    "dtest[\"month\"] = dtest['date'].dt.month.astype('category')"
   ]
  },
  {
   "cell_type": "markdown",
   "id": "17414b45",
   "metadata": {},
   "source": [
    "### Encoding for all features"
   ]
  },
  {
   "cell_type": "markdown",
   "id": "c043d285",
   "metadata": {},
   "source": [
    "#### Label Encoding"
   ]
  },
  {
   "cell_type": "markdown",
   "id": "f307fe8e",
   "metadata": {},
   "source": [
    "Label (Ordinal) encoding is the simplest way to encode the categorical data. It ensure 1-to-1 mapping but it makes the data linearly dependent with each other. All the `userID` in train dataset, test dataset and network dataset are converted into ordinal data. `itemID`, `genre` and `month` in both train and test dataset are also converted."
   ]
  },
  {
   "cell_type": "code",
   "execution_count": null,
   "id": "48eea733",
   "metadata": {},
   "outputs": [],
   "source": [
    "cat_cols = ['userID', 'itemID', 'genre', \"month\"]\n",
    "from sklearn.preprocessing import LabelEncoder\n",
    "\n",
    "\n",
    "for col in cat_cols:\n",
    "    encoder = LabelEncoder()\n",
    "    if col == \"userID\":\n",
    "        encoder.fit(np.concatenate([dtrain[col], dtest[col], dnetwork[\"from\"], dnetwork[\"to\"]]))\n",
    "        dnetwork[\"from_ordinal\"] = encoder.transform(dnetwork[\"from\"])\n",
    "        dnetwork[\"to_ordinal\"] = encoder.transform(dnetwork[\"to\"])\n",
    "    else:\n",
    "        encoder.fit(np.concatenate([dtrain[col], dtest[col]]))\n",
    "    dtrain[f\"{col}_ordinal\"] = encoder.transform(dtrain[f\"{col}\"])\n",
    "    dtest[f\"{col}_ordinal\"] = encoder.transform(dtest[f\"{col}\"])"
   ]
  },
  {
   "cell_type": "code",
   "execution_count": null,
   "id": "61ccf842",
   "metadata": {},
   "outputs": [],
   "source": [
    "dnetwork.sample(5)"
   ]
  },
  {
   "cell_type": "markdown",
   "id": "cb6605b6-0a77-47b9-9687-3279463d4337",
   "metadata": {
    "tags": []
   },
   "source": [
    "## Feature Engineering"
   ]
  },
  {
   "cell_type": "markdown",
   "id": "47f3e70a",
   "metadata": {
    "tags": []
   },
   "source": [
    "### Frequency encoding"
   ]
  },
  {
   "cell_type": "markdown",
   "id": "8fec44e3",
   "metadata": {},
   "source": [
    "Frequency encoding labels the data by their frequencies in train dataset. The frequencies of each features are obtained by using this method and reduced the chance of having linear dependency comparing with label encoding. All data in both train and test dataset are also converted but not for network dataset due to the lack of injectivity."
   ]
  },
  {
   "cell_type": "code",
   "execution_count": null,
   "id": "79e88dc5",
   "metadata": {},
   "outputs": [],
   "source": [
    "from category_encoders import CountEncoder\n",
    "\n",
    "cat_cols = ['userID', 'itemID', 'genre', 'month']\n",
    "for col in cat_cols:\n",
    "    dtrain[f\"{col}_freq\"] = 0\n",
    "    dtest[f\"{col}_freq\"] = 0\n",
    "    for i in dtrain[f\"{col}_ordinal\"].unique():\n",
    "        freq = len(dtrain[dtrain[f\"{col}_ordinal\"] == i]) + len(dtest[dtest[f\"{col}_ordinal\"] == i])\n",
    "        dtrain[f\"{col}_freq\"][dtrain[f\"{col}_ordinal\"] == i] = freq\n",
    "        dtest[f\"{col}_freq\"][dtest[f\"{col}_ordinal\"] == i] = freq"
   ]
  },
  {
   "cell_type": "code",
   "execution_count": null,
   "id": "e03a1d0a-cf25-439a-88de-e12ba2c0076b",
   "metadata": {},
   "outputs": [],
   "source": [
    "dtrain.sample(5)"
   ]
  },
  {
   "cell_type": "markdown",
   "id": "d8c67f3b",
   "metadata": {
    "tags": []
   },
   "source": [
    "### Mean Encoding on all features"
   ]
  },
  {
   "cell_type": "markdown",
   "id": "50be035f-2bb3-4f52-b280-aedf9659f1b8",
   "metadata": {},
   "source": [
    "This is also known as target encoding which labels the data by their mean in train dataset. The mean of each features are obtained by using this method and reduced the chance of having linear dependency compare with label encoding and frequency encodingJamesSteinEncoder."
   ]
  },
  {
   "cell_type": "code",
   "execution_count": null,
   "id": "2e75ce52",
   "metadata": {},
   "outputs": [],
   "source": [
    "from category_encoders import TargetEncoder\n",
    "\n",
    "cat_cols = ['userID', 'itemID', 'genre', 'month']\n",
    "for col in cat_cols:\n",
    "    encoder = TargetEncoder()\n",
    "    dtrain[f'{col}_mean'] = encoder.fit_transform(dtrain[f\"{col}\"], dtrain['rating'])\n",
    "    dtest[f'{col}_mean'] = encoder.transform(dtest[f\"{col}\"])"
   ]
  },
  {
   "cell_type": "markdown",
   "id": "6c460d24-e757-4e4e-8c9b-396a24da2ebf",
   "metadata": {
    "tags": []
   },
   "source": [
    "### James-Stein Encoding"
   ]
  },
  {
   "cell_type": "markdown",
   "id": "9f8ba50f-d242-4020-a659-38aec9ff93a6",
   "metadata": {},
   "source": [
    "This method labels the data by their James-Stein estimator in train dataset."
   ]
  },
  {
   "cell_type": "code",
   "execution_count": null,
   "id": "942f74bf-f882-4e23-816e-6d07c915adb0",
   "metadata": {},
   "outputs": [],
   "source": [
    "from category_encoders import JamesSteinEncoder\n",
    "\n",
    "cat_cols = ['userID', 'itemID', 'genre', 'month']\n",
    "for col in cat_cols:\n",
    "    encoder = JamesSteinEncoder()\n",
    "    dtrain[f'{col}_JS'] = encoder.fit_transform(dtrain[f\"{col}\"], dtrain['rating'])\n",
    "    dtest[f'{col}_JS'] = encoder.transform(dtest[f\"{col}\"])"
   ]
  },
  {
   "cell_type": "code",
   "execution_count": null,
   "id": "23e17374-c4a9-4f23-ab21-69e4a987ebeb",
   "metadata": {},
   "outputs": [],
   "source": [
    "dtrain.sample(5).T"
   ]
  },
  {
   "cell_type": "code",
   "execution_count": null,
   "id": "6dc00ab9-6522-48b8-b430-7e76bbf9a751",
   "metadata": {},
   "outputs": [],
   "source": [
    "dtest.sample(5).T"
   ]
  },
  {
   "cell_type": "markdown",
   "id": "9305f61b-dc92-4a8b-8043-cd6dad8a9837",
   "metadata": {
    "tags": []
   },
   "source": [
    "### Store the number of user, item, genre and month "
   ]
  },
  {
   "cell_type": "code",
   "execution_count": null,
   "id": "c07b41db",
   "metadata": {},
   "outputs": [],
   "source": [
    "n_user = int(max(max(dtrain[\"userID_ordinal\"]), max(dtest[\"userID_ordinal\"]))) + 1\n",
    "n_item = int(max(max(dtrain[\"itemID_ordinal\"]), max(dtest[\"itemID_ordinal\"]))) + 1\n",
    "n_genre = int(max(max(dtrain[\"genre_ordinal\"]), max(dtest[\"genre_ordinal\"]))) + 1\n",
    "n_month = 12"
   ]
  },
  {
   "cell_type": "markdown",
   "id": "2a27e9d5-681b-482f-a0f1-ce9ec5c263ea",
   "metadata": {
    "tags": []
   },
   "source": [
    "### Create mappings for user A following user B / user A followed by user B"
   ]
  },
  {
   "cell_type": "code",
   "execution_count": null,
   "id": "fe4934d5-77d5-4a2e-b076-b22d02271aee",
   "metadata": {},
   "outputs": [],
   "source": [
    "following = []\n",
    "followedby = []\n",
    "for u in range(0, n_user):\n",
    "    following.append(np.array(dnetwork[\"to_ordinal\"][dnetwork[\"from_ordinal\"] == u]))\n",
    "    followedby.append(np.array(dnetwork[\"from_ordinal\"][dnetwork[\"to_ordinal\"] == u]))"
   ]
  },
  {
   "cell_type": "markdown",
   "id": "3e5c2ad2-a7cf-4d1f-8529-7071a11850d2",
   "metadata": {
    "tags": []
   },
   "source": [
    "### Following/Follower numbers of each user"
   ]
  },
  {
   "cell_type": "code",
   "execution_count": null,
   "id": "38eda87d-b46b-46c7-98d5-df16c4afae3e",
   "metadata": {},
   "outputs": [],
   "source": [
    "dtrain[\"following_no\"] = 0\n",
    "dtrain[\"followedby_no\"] = 0\n",
    "for u in set(dtrain[\"userID_ordinal\"]):\n",
    "    dtrain[\"following_no\"][dtrain[\"userID_ordinal\"] == u] = len(following[u])\n",
    "    dtrain[\"followedby_no\"][dtrain[\"userID_ordinal\"] == u] = len(followedby[u])\n",
    "\n",
    "dtest[\"following_no\"] = 0\n",
    "dtest[\"followedby_no\"] = 0\n",
    "for u in set(dtest[\"userID_ordinal\"]):\n",
    "    dtest[\"following_no\"][dtest[\"userID_ordinal\"] == u] = len(following[u])\n",
    "    dtest[\"followedby_no\"][dtest[\"userID_ordinal\"] == u] = len(followedby[u])"
   ]
  },
  {
   "cell_type": "code",
   "execution_count": null,
   "id": "41edc450-03c6-404b-a892-687ac9e83ca2",
   "metadata": {},
   "outputs": [],
   "source": [
    "dtrain[dtrain[\"following_no\"] != 0].sample(5).T"
   ]
  },
  {
   "cell_type": "code",
   "execution_count": null,
   "id": "542489dc-ddbc-4378-b22e-dc7ca7e3a570",
   "metadata": {},
   "outputs": [],
   "source": [
    "dtest[dtest[\"followedby_no\"] != 0].sample(5).T"
   ]
  },
  {
   "cell_type": "markdown",
   "id": "f298e5e2-1bfe-4e46-8555-0c0488014417",
   "metadata": {
    "tags": []
   },
   "source": [
    "### Following Mean and Follower Mean"
   ]
  },
  {
   "cell_type": "code",
   "execution_count": null,
   "id": "bbf073bc-db93-468e-b4ea-26d315981513",
   "metadata": {},
   "outputs": [],
   "source": [
    "dtrain[\"following_mean\"] = 0\n",
    "dtrain[\"follower_mean\"] = 0\n",
    "\n",
    "for u in set(dtrain[\"userID_ordinal\"]):\n",
    "    u_tmp = following[u]\n",
    "    if len(u_tmp) == 0:\n",
    "        continue\n",
    "    dtrain[\"following_mean\"][dtrain[\"userID_ordinal\"] == u] = dtrain[\"rating\"][dtrain[\"userID_ordinal\"].isin(u_tmp)].mean()\n",
    "\n",
    "for u in set(dtrain[\"userID_ordinal\"]):\n",
    "    u_tmp = followedby[u]\n",
    "    if len(u_tmp) == 0:\n",
    "        continue\n",
    "    dtrain[\"follower_mean\"][dtrain[\"userID_ordinal\"] == u] = dtrain[\"rating\"][dtrain[\"userID_ordinal\"].isin(u_tmp)].mean()\n"
   ]
  },
  {
   "cell_type": "code",
   "execution_count": null,
   "id": "c9c5b7dd-477f-4b68-9462-1c2a4da82352",
   "metadata": {},
   "outputs": [],
   "source": [
    "dtrain.info()"
   ]
  },
  {
   "cell_type": "code",
   "execution_count": null,
   "id": "d5bfe2f9-55e1-403b-9acc-5e94eaa3ff87",
   "metadata": {},
   "outputs": [],
   "source": [
    "dtrain[dtrain[\"following_mean\"] != 0].sample(5).T"
   ]
  },
  {
   "cell_type": "code",
   "execution_count": null,
   "id": "96a3bf91-5b6d-4330-b01d-d1cd9b672e14",
   "metadata": {},
   "outputs": [],
   "source": [
    "dtrain[dtrain[\"follower_mean\"] != 0].sample(5).T"
   ]
  },
  {
   "cell_type": "code",
   "execution_count": null,
   "id": "e07282d4-7911-4612-8e69-f57997387c63",
   "metadata": {},
   "outputs": [],
   "source": [
    "dtest[\"following_mean\"] = 0\n",
    "dtest[\"follower_mean\"] = 0\n",
    "\n",
    "for u in set(dtest[\"userID_ordinal\"]):\n",
    "    u_tmp = following[u]\n",
    "    if len(u_tmp) == 0:\n",
    "        continue\n",
    "    dtest[\"following_mean\"][dtest[\"userID_ordinal\"] == u] = dtrain[\"rating\"][dtrain[\"userID_ordinal\"].isin(u_tmp)].mean()\n",
    "\n",
    "for u in set(dtest[\"userID_ordinal\"]):\n",
    "    u_tmp = followedby[u]\n",
    "    if len(u_tmp) == 0:\n",
    "        continue\n",
    "    dtest[\"follower_mean\"][dtest[\"userID_ordinal\"] == u] = dtrain[\"rating\"][dtrain[\"userID_ordinal\"].isin(u_tmp)].mean()\n"
   ]
  },
  {
   "cell_type": "code",
   "execution_count": null,
   "id": "266377c3-95ce-43d2-83f2-8fcf5bc63f56",
   "metadata": {},
   "outputs": [],
   "source": [
    "dtest[dtest[\"following_mean\"] != 0].sample(5).T"
   ]
  },
  {
   "cell_type": "code",
   "execution_count": null,
   "id": "425831f3-3de0-429e-bea6-45fac1d2492c",
   "metadata": {},
   "outputs": [],
   "source": [
    "dtest[dtest[\"follower_mean\"] != 0].sample(5).T"
   ]
  },
  {
   "cell_type": "markdown",
   "id": "89f4cc10-3620-4af5-81f6-79547fd9bffd",
   "metadata": {
    "tags": []
   },
   "source": [
    "### Networkx for handling graph"
   ]
  },
  {
   "cell_type": "markdown",
   "id": "09ab1c2f-7af4-45f1-b121-e6b547cc7d5d",
   "metadata": {},
   "source": [
    "It is a strong assumption that the rating to each item given by the users is highly influenced by their friends (following users/ followers). It is decided to consider the users as nodes and consider the connection to their respective following users/ followers as edges. "
   ]
  },
  {
   "cell_type": "code",
   "execution_count": null,
   "id": "cefe9da0-e8cf-4a26-af35-56ef6b149909",
   "metadata": {},
   "outputs": [],
   "source": [
    "dnetwork = dnetwork.drop(labels=[\"from\", \"to\"], axis=1)\n",
    "dnetwork"
   ]
  },
  {
   "cell_type": "markdown",
   "id": "6492ea71-1700-4a4a-935d-c35ddbeb37f7",
   "metadata": {},
   "source": [
    "#### Undirected assumption (i.e. A follows B $\\Leftrightarrow$ A is followed by B $\\Leftrightarrow$ edge $A \\leftrightarrow B$)"
   ]
  },
  {
   "cell_type": "code",
   "execution_count": null,
   "id": "832c9f75-ae64-489d-b87d-3526fe881a69",
   "metadata": {},
   "outputs": [],
   "source": [
    "G = {}\n",
    "\n",
    "for u in range(n_user):\n",
    "    G[u] = set(np.append(following[u], followedby[u]))"
   ]
  },
  {
   "cell_type": "code",
   "execution_count": null,
   "id": "32ee38de-0d47-4a53-81c1-2e89f440ee06",
   "metadata": {},
   "outputs": [],
   "source": [
    "import networkx as nx\n",
    "G = nx.Graph(G)"
   ]
  },
  {
   "cell_type": "code",
   "execution_count": null,
   "id": "00c7d76c-75b1-4347-bf36-e947602a02df",
   "metadata": {},
   "outputs": [],
   "source": [
    "nx.draw(G, node_size=10)"
   ]
  },
  {
   "cell_type": "code",
   "execution_count": null,
   "id": "6ff1d64d-28da-405f-ab99-de08410490a5",
   "metadata": {},
   "outputs": [],
   "source": [
    "import matplotlib.pyplot as plt\n",
    "\n",
    "def plot_degree_dist(G):\n",
    "    degrees = [G.degree(n) for n in G.nodes()]\n",
    "    plt.hist(degrees, bins=100)\n",
    "    plt.show()\n",
    "\n",
    "plot_degree_dist(G)"
   ]
  },
  {
   "cell_type": "markdown",
   "id": "b68678f4-de73-4666-a33e-0e66a921f434",
   "metadata": {},
   "source": [
    "#### Directed assumption (i.e. A follows B $\\Leftrightarrow$ edge $A \\leftrightarrow B$ $\\not\\Leftrightarrow$ A is followed by B )"
   ]
  },
  {
   "cell_type": "code",
   "execution_count": null,
   "id": "db74e403-d3cb-4c2a-8d31-8bdecd9e7cc3",
   "metadata": {},
   "outputs": [],
   "source": [
    "H = {}\n",
    "\n",
    "for u in range(n_user):\n",
    "    H[u] = set(following[u])"
   ]
  },
  {
   "cell_type": "code",
   "execution_count": null,
   "id": "c0c510cb-c225-4b50-9ff7-e09f39ff395a",
   "metadata": {},
   "outputs": [],
   "source": [
    "H = nx.DiGraph(H)"
   ]
  },
  {
   "cell_type": "code",
   "execution_count": null,
   "id": "25b8abeb-7201-44eb-a330-51f700e4fcf3",
   "metadata": {},
   "outputs": [],
   "source": [
    "nx.draw(H, node_size=10)"
   ]
  },
  {
   "cell_type": "code",
   "execution_count": null,
   "id": "f5f7b8ae-f661-4520-9c9d-7077f4e0d178",
   "metadata": {},
   "outputs": [],
   "source": [
    "plot_degree_dist(H)"
   ]
  },
  {
   "cell_type": "markdown",
   "id": "a0804a23-4689-4a66-b793-86da303e1ddb",
   "metadata": {},
   "source": [
    "#### Calculation indicators from the theory of complex graphs"
   ]
  },
  {
   "cell_type": "markdown",
   "id": "85c34288-0904-4bc7-9bdb-755ebbe53eea",
   "metadata": {},
   "source": [
    "The centrality of proximity: This indicator makes it possible to detect the individuals who have a significant power on the transfer of information. Individuals with a large centralized proximity have the ability to contact a very large number of individuals easily\n",
    "\n",
    "The betweeness centrality: This indicator can detect individuals who influence the transfer of information. If these individuals do not exist in the network, then the information can not flow on both sides of the network.\n",
    "\n",
    "The eigenvector centrality: The individuals having a high spectral centralized are the individuals who have the most relation in the network, they are central and have influence in a general way on the network."
   ]
  },
  {
   "cell_type": "code",
   "execution_count": null,
   "id": "c599d47e-b3de-4516-af8b-1b72e6c27f4d",
   "metadata": {},
   "outputs": [],
   "source": [
    "# Degree\n",
    "dtrain['undirected_degree'] = 0\n",
    "dtest['undirected_degree'] = 0\n",
    "dtrain['directed_degree'] = 0\n",
    "dtest['directed_degree'] = 0\n",
    "\n",
    "for u in range(n_user):\n",
    "    # Undirected\n",
    "    dtrain['undirected_degree'][dtrain['userID_ordinal'] == u] = G.degree(u)\n",
    "    dtest['undirected_degree'][dtest['userID_ordinal'] == u] = G.degree(u)\n",
    "    # Directed\n",
    "    dtrain['directed_degree'][dtrain['userID_ordinal'] == u] = H.degree(u)\n",
    "    dtest['directed_degree'][dtest['userID_ordinal'] == u] = H.degree(u)"
   ]
  },
  {
   "cell_type": "code",
   "execution_count": null,
   "id": "6d418f98-730c-47b7-b149-c2897819e950",
   "metadata": {},
   "outputs": [],
   "source": [
    "# Betweenness Centrality\n",
    "\n",
    "# Undirected\n",
    "bet_cen1 = nx.betweenness_centrality(G)\n",
    "df_bet_cen1 = pd.DataFrame.from_dict(bet_cen1, orient='index')\n",
    "df_bet_cen1.columns = ['undirected_betweenness_centrality']\n",
    "df_bet_cen1.index.names = ['userID_ordinal']\n",
    "df_bet_cen1.reset_index(level=0, inplace=True)\n",
    "dtrain = pd.merge(dtrain, df_bet_cen1, on = ['userID_ordinal'])\n",
    "dtest = pd.merge(dtest, df_bet_cen1, on = ['userID_ordinal'])\n",
    "\n",
    "# Directed\n",
    "bet_cen2 = nx.betweenness_centrality(H)\n",
    "df_bet_cen2 = pd.DataFrame.from_dict(bet_cen2, orient='index')\n",
    "df_bet_cen2.columns = ['directed_betweenness_centrality']\n",
    "df_bet_cen2.index.names = ['userID_ordinal']\n",
    "df_bet_cen2.reset_index(level=0, inplace=True)\n",
    "dtrain = pd.merge(dtrain, df_bet_cen2, on = ['userID_ordinal'])\n",
    "dtest = pd.merge(dtest, df_bet_cen2, on = ['userID_ordinal'])"
   ]
  },
  {
   "cell_type": "code",
   "execution_count": null,
   "id": "fe52f8b3-b527-4d2b-8e51-7ab9a576e7db",
   "metadata": {},
   "outputs": [],
   "source": [
    "# Clustering coefficient\n",
    "\n",
    "# Undirected\n",
    "clust_coeff1 = nx.clustering(G)\n",
    "df_clust1 = pd.DataFrame.from_dict(clust_coeff1, orient='index')\n",
    "df_clust1.columns = ['undirected_clust_coefficient']\n",
    "df_clust1.index.names = ['userID_ordinal']\n",
    "df_clust1.reset_index(level=0, inplace=True)\n",
    "dtrain = pd.merge(dtrain, df_clust1, on = ['userID_ordinal'])\n",
    "dtest = pd.merge(dtest, df_clust1, on = ['userID_ordinal'])\n",
    "\n",
    "# Directed\n",
    "clust_coeff2 = nx.clustering(H)\n",
    "df_clust2 = pd.DataFrame.from_dict(clust_coeff2, orient='index')\n",
    "df_clust2.columns = ['directed_clust_coefficient']\n",
    "df_clust2.index.names = ['userID_ordinal']\n",
    "df_clust2.reset_index(level=0, inplace=True)\n",
    "dtrain = pd.merge(dtrain, df_clust2, on = ['userID_ordinal'])\n",
    "dtest = pd.merge(dtest, df_clust2, on = ['userID_ordinal'])"
   ]
  },
  {
   "cell_type": "code",
   "execution_count": null,
   "id": "2e3c77a3-ed88-47b5-a7da-585d0957abb5",
   "metadata": {},
   "outputs": [],
   "source": [
    "# Closeness centrality\n",
    "\n",
    "# Undirected\n",
    "clo_cen1 = nx.closeness_centrality(G)\n",
    "df_clo1 = pd.DataFrame.from_dict(clo_cen1, orient='index')\n",
    "df_clo1.columns = ['undirected_closeness_centrality']\n",
    "df_clo1.index.names = ['userID_ordinal']\n",
    "df_clo1.reset_index(level=0, inplace=True)\n",
    "dtrain = pd.merge(dtrain, df_clo1, on = ['userID_ordinal'])\n",
    "dtest = pd.merge(dtest, df_clo1, on = ['userID_ordinal'])\n",
    "\n",
    "# Directed\n",
    "clo_cen2 = nx.closeness_centrality(H)\n",
    "df_clo2 = pd.DataFrame.from_dict(clo_cen2, orient='index')\n",
    "df_clo2.columns = ['directed_closeness_centrality']\n",
    "df_clo2.index.names = ['userID_ordinal']\n",
    "df_clo2.reset_index(level=0, inplace=True)\n",
    "dtrain = pd.merge(dtrain, df_clo2, on = ['userID_ordinal'])\n",
    "dtest = pd.merge(dtest, df_clo2, on = ['userID_ordinal'])"
   ]
  },
  {
   "cell_type": "code",
   "execution_count": null,
   "id": "53f8c84b-b485-4aad-83b6-44af465d087f",
   "metadata": {},
   "outputs": [],
   "source": [
    "# Eigenvector centrality\n",
    "\n",
    "# Undirected\n",
    "eig_cen1 = nx.eigenvector_centrality_numpy(G)\n",
    "df_eig1 = pd.DataFrame.from_dict(eig_cen1, orient='index')\n",
    "df_eig1.columns = ['undirected_eigenvector_centrality']\n",
    "df_eig1.index.names = ['userID_ordinal']\n",
    "df_eig1.reset_index(level=0, inplace=True)\n",
    "dtrain = pd.merge(dtrain, df_eig1, on = ['userID_ordinal'])\n",
    "dtest = pd.merge(dtest, df_eig1, on = ['userID_ordinal'])\n",
    "\n",
    "# Directed\n",
    "eig_cen2 = nx.eigenvector_centrality_numpy(H)\n",
    "df_eig2 = pd.DataFrame.from_dict(eig_cen2, orient='index')\n",
    "df_eig2.columns = ['directed_eigenvector_centrality']\n",
    "df_eig2.index.names = ['userID_ordinal']\n",
    "df_eig2.reset_index(level=0, inplace=True)\n",
    "dtrain = pd.merge(dtrain, df_eig2, on = ['userID_ordinal'])\n",
    "dtest = pd.merge(dtest, df_eig2, on = ['userID_ordinal'])"
   ]
  },
  {
   "cell_type": "code",
   "execution_count": null,
   "id": "eef62302-2934-4bf9-afee-58302545a527",
   "metadata": {},
   "outputs": [],
   "source": [
    "# Degree centrality\n",
    "\n",
    "# Undirected\n",
    "deg_cen1 = nx.degree_centrality(G)\n",
    "df_degcen1 = pd.DataFrame.from_dict(deg_cen1, orient='index')\n",
    "df_degcen1.columns = ['undirected_degree_centrality']\n",
    "df_degcen1.index.names = ['userID_ordinal']\n",
    "df_degcen1.reset_index(level=0, inplace=True)\n",
    "dtrain = pd.merge(dtrain, df_degcen1, on = ['userID_ordinal'])\n",
    "dtest = pd.merge(dtest, df_degcen1, on = ['userID_ordinal'])\n",
    "\n",
    "# Directed\n",
    "deg_cen2 = nx.degree_centrality(H)\n",
    "df_degcen2 = pd.DataFrame.from_dict(deg_cen2, orient='index')\n",
    "df_degcen2.columns = ['directed_degree_centrality']\n",
    "df_degcen2.index.names = ['userID_ordinal']\n",
    "df_degcen2.reset_index(level=0, inplace=True)\n",
    "dtrain = pd.merge(dtrain, df_degcen2, on = ['userID_ordinal'])\n",
    "dtest = pd.merge(dtest, df_degcen2, on = ['userID_ordinal'])"
   ]
  },
  {
   "cell_type": "code",
   "execution_count": null,
   "id": "43c59848-0bbe-4984-b619-2ca72cefacf8",
   "metadata": {},
   "outputs": [],
   "source": [
    "dtrain[dtrain['follower_mean'] != 0].sample(5).T"
   ]
  },
  {
   "cell_type": "code",
   "execution_count": null,
   "id": "a5134de3-e568-4f37-819a-06303252630c",
   "metadata": {},
   "outputs": [],
   "source": [
    "dtest[dtest['following_mean'] != 0].sample(5).T"
   ]
  },
  {
   "cell_type": "markdown",
   "id": "95ccd65f-0dae-4e96-9b2e-dca95689e975",
   "metadata": {
    "tags": []
   },
   "source": [
    "## Update the dataset"
   ]
  },
  {
   "cell_type": "code",
   "execution_count": null,
   "id": "b9f443a3-a6c5-4892-b5ad-f091f56dd19c",
   "metadata": {},
   "outputs": [],
   "source": [
    "dtrain[\"following_mean\"].fillna(0, inplace = True)\n",
    "dtest[\"following_mean\"].fillna(0, inplace = True)\n",
    "dtrain[\"follower_mean\"].fillna(0, inplace = True)\n",
    "dtest[\"follower_mean\"].fillna(0, inplace = True)"
   ]
  },
  {
   "cell_type": "code",
   "execution_count": null,
   "id": "0bd510a1",
   "metadata": {},
   "outputs": [],
   "source": [
    "dtrain = dtrain.drop(labels=['userID', 'itemID', 'genre', \"month\"],axis=1)"
   ]
  },
  {
   "cell_type": "code",
   "execution_count": null,
   "id": "1fe78aca",
   "metadata": {
    "scrolled": true
   },
   "outputs": [],
   "source": [
    "dtest = dtest.drop(labels=['userID', 'itemID', 'genre', \"month\"], axis=1)"
   ]
  },
  {
   "cell_type": "code",
   "execution_count": null,
   "id": "25d53f06-09b8-4c1b-842a-042b4d75a8ea",
   "metadata": {},
   "outputs": [],
   "source": [
    "from sklearn.preprocessing import StandardScaler\n",
    "scaler = StandardScaler()  \n",
    "df = dtrain[['undirected_degree', 'directed_degree', \n",
    "        'undirected_betweenness_centrality', 'directed_betweenness_centrality', \n",
    "        'undirected_clust_coefficient', 'directed_clust_coefficient', \n",
    "        'undirected_closeness_centrality', 'directed_closeness_centrality', \n",
    "        'undirected_eigenvector_centrality', 'directed_eigenvector_centrality', \n",
    "        'undirected_degree_centrality', 'directed_degree_centrality']] \n",
    "\n",
    "dtrain[['undirected_degree', 'directed_degree', 'undirected_betweenness_centrality', 'directed_betweenness_centrality', 'undirected_clust_coefficient', 'directed_clust_coefficient', 'undirected_closeness_centrality', 'directed_closeness_centrality', 'undirected_eigenvector_centrality', 'directed_eigenvector_centrality', 'undirected_degree_centrality', 'directed_degree_centrality']]= scaler.fit_transform(df)"
   ]
  },
  {
   "cell_type": "code",
   "execution_count": null,
   "id": "eb6695ff-d936-4fdf-b933-f43bf13e5513",
   "metadata": {},
   "outputs": [],
   "source": [
    "dtrain[['undirected_degree', 'directed_degree', \n",
    "        'undirected_betweenness_centrality', 'directed_betweenness_centrality', \n",
    "        'undirected_clust_coefficient', 'directed_clust_coefficient', \n",
    "        'undirected_closeness_centrality', 'directed_closeness_centrality', \n",
    "        'undirected_eigenvector_centrality', 'directed_eigenvector_centrality', \n",
    "        'undirected_degree_centrality', 'directed_degree_centrality']].sample(3).T"
   ]
  },
  {
   "cell_type": "code",
   "execution_count": null,
   "id": "383f8ac9",
   "metadata": {},
   "outputs": [],
   "source": [
    "train_rating = np.array(dtrain[\"rating\"].values)"
   ]
  },
  {
   "cell_type": "markdown",
   "id": "4532d44f",
   "metadata": {
    "tags": []
   },
   "source": [
    "## EDA"
   ]
  },
  {
   "cell_type": "code",
   "execution_count": null,
   "id": "abe190cf",
   "metadata": {},
   "outputs": [],
   "source": [
    "import seaborn as sns\n",
    "import matplotlib.pyplot as plt\n",
    "plt.rcParams['figure.figsize'] = (20, 15)\n",
    "sns.set_theme(style=\"ticks\")\n",
    "\n",
    "sns.histplot(data=dtrain, x='rating', bins=len(dtrain['rating'].unique()))\n",
    "plt.title(\"Rating\")\n",
    "plt.grid()\n",
    "plt.show()"
   ]
  },
  {
   "cell_type": "code",
   "execution_count": null,
   "id": "964496ea",
   "metadata": {},
   "outputs": [],
   "source": [
    "print(\"No. of rating equals 6: \", len(dtrain['rating'][dtrain['rating'] == 6]))"
   ]
  },
  {
   "cell_type": "markdown",
   "id": "244802b4",
   "metadata": {},
   "source": [
    "The higher ratings have higher frequencies except the fact that there are only 43 ratings equal to 6."
   ]
  },
  {
   "cell_type": "code",
   "execution_count": null,
   "id": "79c1e026",
   "metadata": {
    "scrolled": true
   },
   "outputs": [],
   "source": [
    "dtrain[dtrain[\"userID_ordinal\"].isin(dtrain[\"userID_ordinal\"][dtrain['rating'] == 6])].sample(5).T"
   ]
  },
  {
   "cell_type": "code",
   "execution_count": null,
   "id": "ec13ddaf",
   "metadata": {},
   "outputs": [],
   "source": [
    "all6users = []\n",
    "for i in dtrain[\"userID_ordinal\"]:\n",
    "    flag = np.unique(dtrain[\"rating\"][dtrain[\"userID_ordinal\"] == i])\n",
    "    if list(set(flag))[0] == 6:\n",
    "        all6users.append(i)\n",
    "dtrain[dtrain[\"userID_ordinal\"].isin(all6users)]"
   ]
  },
  {
   "cell_type": "markdown",
   "id": "321379bf",
   "metadata": {},
   "source": [
    "Aftering inspecting the users given rating 6, 3 of them only rated once and gave rating 6."
   ]
  },
  {
   "cell_type": "code",
   "execution_count": null,
   "id": "1f0a8a3c",
   "metadata": {},
   "outputs": [],
   "source": [
    "all1users = []\n",
    "for i in dtrain[\"userID_ordinal\"]:\n",
    "    flag = np.unique(dtrain[\"rating\"][dtrain[\"userID_ordinal\"] == i])\n",
    "    if list(set(flag))[0] == 1:\n",
    "        all6users.append(i)\n",
    "dtrain[dtrain[\"userID_ordinal\"].isin(all1users)]"
   ]
  },
  {
   "cell_type": "markdown",
   "id": "d43195dd",
   "metadata": {},
   "source": [
    "There is no user only gives rating 1."
   ]
  },
  {
   "cell_type": "markdown",
   "id": "b0ea62bd",
   "metadata": {},
   "source": [
    "### Histogram for each feature means"
   ]
  },
  {
   "cell_type": "code",
   "execution_count": null,
   "id": "6a796e99-b0ae-484e-bc37-f3e66962023d",
   "metadata": {},
   "outputs": [],
   "source": [
    "figure, axis = plt.subplots(2, 2)\n",
    "\n",
    "cat_cols = np.array(['userID', 'itemID', 'genre', 'month']).reshape(2,2)\n",
    "for i in range(0, 2):\n",
    "    for j in range(0, 2):\n",
    "        col = cat_cols[j, i]\n",
    "        sns.histplot(dtrain.groupby(f'{col}_ordinal')['rating'].mean(), ax = axis[j,i])\n",
    "        axis[j,i].set_title(f\"{col} Mean\")\n",
    "        axis[j,i].grid()"
   ]
  },
  {
   "cell_type": "markdown",
   "id": "80347181",
   "metadata": {},
   "source": [
    "### Lineplot for each months mean"
   ]
  },
  {
   "cell_type": "code",
   "execution_count": null,
   "id": "7f8089aa",
   "metadata": {},
   "outputs": [],
   "source": [
    "sns.lineplot(x=dtrain.groupby('date')['rating'].mean().keys(),\n",
    "                y=dtrain.groupby('date')['rating'].mean())\n",
    "plt.title(\"Monthly Mean (2012-03 - 2013-06)\")\n",
    "plt.grid()\n",
    "plt.show()"
   ]
  },
  {
   "cell_type": "markdown",
   "id": "68be94a9",
   "metadata": {},
   "source": [
    "It is unlikely that the ratings on each months in a year follows a particular cycle. Therefore, dropping `date` from datasets is sensible."
   ]
  },
  {
   "cell_type": "code",
   "execution_count": null,
   "id": "e9c5f6c6-c569-4caf-b003-8a4f9d49da0e",
   "metadata": {},
   "outputs": [],
   "source": [
    "dtrain = dtrain.drop(\"date\", axis=1)\n",
    "dtest = dtest.drop(\"date\", axis=1)"
   ]
  },
  {
   "cell_type": "markdown",
   "id": "8a7b80be",
   "metadata": {},
   "source": [
    "### Barplot and Violinplot for monthly mean"
   ]
  },
  {
   "cell_type": "code",
   "execution_count": null,
   "id": "9ece54bf",
   "metadata": {},
   "outputs": [],
   "source": [
    "figure, axis = plt.subplots(ncols = 2)\n",
    "\n",
    "sns.barplot(x=dtrain['month_ordinal'],\n",
    "                y=dtrain['rating'], ax=axis[0])\n",
    "axis[0].grid()\n",
    "\n",
    "sns.violinplot(x=dtrain[\"month_ordinal\"],\n",
    "                y=dtrain['rating'], ax=axis[1])\n",
    "axis[1].grid()"
   ]
  },
  {
   "cell_type": "markdown",
   "id": "dd4516d8",
   "metadata": {},
   "source": [
    "Each month mean rating is moderate around 4 where month 9 is the highest and month 8 is the lowest. The violinplot shows that the ratings of every months in a year has similar distributions."
   ]
  },
  {
   "cell_type": "markdown",
   "id": "8759785b-de96-4c98-ba00-42f4596e9d94",
   "metadata": {},
   "source": [
    "### Rated Frequencies for each month"
   ]
  },
  {
   "cell_type": "code",
   "execution_count": null,
   "id": "13d331a1-e357-4b39-920d-244015b78acc",
   "metadata": {},
   "outputs": [],
   "source": [
    "sns.histplot(data=dtrain, x='month_ordinal')\n",
    "plt.grid()\n",
    "plt.show()"
   ]
  },
  {
   "cell_type": "code",
   "execution_count": null,
   "id": "3816152a-8e35-4d34-b561-c6aa951d2453",
   "metadata": {},
   "outputs": [],
   "source": [
    "print(\"No. of rating for month 7: \", len(dtrain['month_ordinal'][dtrain['month_ordinal'] == 4]))"
   ]
  },
  {
   "cell_type": "code",
   "execution_count": null,
   "id": "b7aaec2f-29ee-4610-971e-df1ed7b106fc",
   "metadata": {},
   "outputs": [],
   "source": [
    "print(\"No. of rating for month 7: \", len(dtrain['month_ordinal'][dtrain['month_ordinal'] == 7]))\n",
    "print(\"No. of rating for month 8: \", len(dtrain['month_ordinal'][dtrain['month_ordinal'] == 8]))"
   ]
  },
  {
   "cell_type": "markdown",
   "id": "4ec1cf86-4c06-4908-9275-9eeaf3db75b0",
   "metadata": {},
   "source": [
    "Month 7 has the highest rated frequency and month 7 and 8 have the lowest rated frequencies"
   ]
  },
  {
   "cell_type": "markdown",
   "id": "f8eb4bb2",
   "metadata": {},
   "source": [
    "### Scatter plots for each month"
   ]
  },
  {
   "cell_type": "code",
   "execution_count": null,
   "id": "dad1e836",
   "metadata": {},
   "outputs": [],
   "source": [
    "figure, axis = plt.subplots(3, 4)\n",
    "mon = np.arange(0,12).reshape(3, 4)\n",
    "\n",
    "for i in range(0, 4):\n",
    "    for j in range(0, 3):\n",
    "        month = mon[j,i]\n",
    "        sns.scatterplot(data=dtrain[dtrain[\"month_ordinal\"] == month], \n",
    "                        x=\"userID_ordinal\", y=\"itemID_ordinal\", ax=axis[j,i])\n",
    "        axis[j,i].set_title(f\"Month {month}\")\n",
    "        axis[j,i].grid()"
   ]
  },
  {
   "cell_type": "code",
   "execution_count": null,
   "id": "b9337687",
   "metadata": {},
   "outputs": [],
   "source": [
    "sns.histplot(dtrain.groupby('genre_ordinal')['rating'].mean())\n",
    "plt.title(\"Genre Mean\")\n",
    "plt.grid()\n",
    "plt.show()"
   ]
  },
  {
   "cell_type": "markdown",
   "id": "a319a4e1",
   "metadata": {
    "tags": []
   },
   "source": [
    "### Barplot and Violinplot for each genre means"
   ]
  },
  {
   "cell_type": "code",
   "execution_count": null,
   "id": "14fa02c8",
   "metadata": {},
   "outputs": [],
   "source": [
    "figure, axis = plt.subplots(ncols = 2)\n",
    "\n",
    "sns.barplot(x=dtrain['genre_ordinal'],\n",
    "                y=dtrain['rating'], ax=axis[0])\n",
    "axis[0].grid()\n",
    "\n",
    "sns.violinplot(x=dtrain[\"genre_ordinal\"],\n",
    "                y=dtrain['rating'], ax=axis[1])\n",
    "axis[1].grid()"
   ]
  },
  {
   "cell_type": "markdown",
   "id": "78c075e0",
   "metadata": {},
   "source": [
    "Each genre mean rating is moderate around 4 where genre 5 is the highest and genre 16 is the lowest.\n",
    "The distributions of each genre are not similar especially for genre 5, 6, 10.The distributions of each genre are not similar especially for genre 5, 6, 10."
   ]
  },
  {
   "cell_type": "markdown",
   "id": "78eda003",
   "metadata": {},
   "source": [
    "### Rated frequency for each genre"
   ]
  },
  {
   "cell_type": "code",
   "execution_count": null,
   "id": "5186212b",
   "metadata": {},
   "outputs": [],
   "source": [
    "sns.histplot(data=dtrain, x='genre_ordinal')\n",
    "plt.grid()\n",
    "plt.show()"
   ]
  },
  {
   "cell_type": "code",
   "execution_count": null,
   "id": "0cb97cfa",
   "metadata": {},
   "outputs": [],
   "source": [
    "print(\"No. of rating for genre 6: \", len(dtrain['genre_ordinal'][dtrain['genre_ordinal'] == 6]))\n",
    "print(\"No. of rating for genre 7: \", len(dtrain['genre_ordinal'][dtrain['genre_ordinal'] == 7]))\n",
    "print(\"No. of rating for genre 10: \", len(dtrain['genre_ordinal'][dtrain['genre_ordinal'] == 10]))"
   ]
  },
  {
   "cell_type": "markdown",
   "id": "0bb8e81b",
   "metadata": {},
   "source": [
    "Genre 6, 7, 10 have the fewest numbers of rating."
   ]
  },
  {
   "cell_type": "code",
   "execution_count": null,
   "id": "d491cb23",
   "metadata": {},
   "outputs": [],
   "source": [
    "print(\"No. of rating for genre 13: \", len(dtrain['genre_ordinal'][dtrain['genre_ordinal'] == 13]))\n",
    "print(\"No. of rating for genre 15: \", len(dtrain['genre_ordinal'][dtrain['genre_ordinal'] == 15]))"
   ]
  },
  {
   "cell_type": "markdown",
   "id": "60d367d0",
   "metadata": {},
   "source": [
    "Genre 13, 15 have the highest numbers of rating."
   ]
  },
  {
   "cell_type": "markdown",
   "id": "de5d3cc6",
   "metadata": {},
   "source": [
    "### Scatter plots for each genre"
   ]
  },
  {
   "cell_type": "code",
   "execution_count": null,
   "id": "a42ffc35",
   "metadata": {},
   "outputs": [],
   "source": [
    "figure, axis = plt.subplots(4, 5)\n",
    "gen = np.arange(0,20).reshape(4, 5)\n",
    "\n",
    "for i in range(0, 5):\n",
    "    for j in range(0, 4):\n",
    "        genre = gen[j,i]\n",
    "        sns.scatterplot(data=dtrain[dtrain[\"genre_ordinal\"] == genre],\n",
    "                        x=\"userID_ordinal\", y=\"itemID_ordinal\", ax=axis[j,i])\n",
    "        axis[j,i].set_title(f\"Genre {genre}\")\n",
    "        axis[j,i].grid()"
   ]
  },
  {
   "cell_type": "markdown",
   "id": "c2d5c179-c638-4521-9ffa-44f12ff18361",
   "metadata": {},
   "source": [
    "### Barplot of monthly mean for each genre"
   ]
  },
  {
   "cell_type": "code",
   "execution_count": null,
   "id": "1c722171-d2ad-46f6-bfc4-4559696c8f6d",
   "metadata": {},
   "outputs": [],
   "source": [
    "sns.barplot(data=dtrain, x='genre_ordinal', y='rating', hue='month_ordinal')\n",
    "plt.title(\"Monthly Mean of each genre\")\n",
    "plt.grid()\n",
    "plt.show()"
   ]
  },
  {
   "cell_type": "markdown",
   "id": "cc5d4862-9e24-4cbc-aba0-1fbebc6b1454",
   "metadata": {},
   "source": [
    "Genre 1, 5, 6, 7, 10 are not rated for all months."
   ]
  },
  {
   "cell_type": "markdown",
   "id": "d5de1985",
   "metadata": {},
   "source": [
    "### Scatter plots of userID/itemID aganist their rated frequencies"
   ]
  },
  {
   "cell_type": "code",
   "execution_count": null,
   "id": "816d8115",
   "metadata": {},
   "outputs": [],
   "source": [
    "user2item = {}\n",
    "for u in dtrain[\"userID_ordinal\"]:\n",
    "    user2item[u] = np.array(dtrain[\"itemID_ordinal\"][dtrain[\"userID_ordinal\"] == u])\n",
    "\n",
    "item2user = {}\n",
    "for i in dtrain[\"itemID_ordinal\"]:\n",
    "    item2user[i] = np.array(dtrain[\"userID_ordinal\"][dtrain[\"itemID_ordinal\"] == i])"
   ]
  },
  {
   "cell_type": "code",
   "execution_count": null,
   "id": "96e0637f",
   "metadata": {},
   "outputs": [],
   "source": [
    "freq_user = {}\n",
    "freq_item = {}\n",
    "\n",
    "for i in user2item:\n",
    "    freq_user[i] = len(user2item[i])\n",
    "    \n",
    "for i in item2user:\n",
    "    freq_item[i] = len(item2user[i])"
   ]
  },
  {
   "cell_type": "code",
   "execution_count": null,
   "id": "3ac3bb83",
   "metadata": {},
   "outputs": [],
   "source": [
    "sns.scatterplot(freq_user.keys(), freq_user.values())\n",
    "plt.title(\"User ID vs rated freq.\")\n",
    "plt.grid()\n",
    "plt.show()"
   ]
  },
  {
   "cell_type": "code",
   "execution_count": null,
   "id": "4796fc05",
   "metadata": {},
   "outputs": [],
   "source": [
    "min_freq_user = min(freq_user.values())\n",
    "lowerbound = [key for key in freq_user.keys() if freq_user[key] == min_freq_user]\n",
    "print(\"No. of users who least often (%d time(s)), give ratings : %d\" \n",
    "      %(min_freq_user, len(lowerbound)))"
   ]
  },
  {
   "cell_type": "code",
   "execution_count": null,
   "id": "f864e527",
   "metadata": {},
   "outputs": [],
   "source": [
    "max_freq_user = max(freq_user.values())\n",
    "upperbound = [key for key in freq_user.keys() if freq_user[key] == max_freq_user]\n",
    "print(\"No. of users who most often (%d time(s)) give ratings : %d\" \n",
    "      %(max_freq_user, len(upperbound)))\n",
    "upperbound = upperbound[0]"
   ]
  },
  {
   "cell_type": "code",
   "execution_count": null,
   "id": "5982ea7b",
   "metadata": {},
   "outputs": [],
   "source": [
    "dtrain[dtrain['userID_ordinal'] == upperbound]"
   ]
  },
  {
   "cell_type": "markdown",
   "id": "3e88395b",
   "metadata": {},
   "source": [
    "After inspecting the most often rated user, it is confirmed that he/she is not a rate spammer."
   ]
  },
  {
   "cell_type": "code",
   "execution_count": null,
   "id": "f9f2d1a6",
   "metadata": {},
   "outputs": [],
   "source": [
    "sns.scatterplot(freq_item.keys(), freq_item.values())\n",
    "plt.title(\"Item ID vs rated freq.\")\n",
    "plt.grid()\n",
    "plt.show()"
   ]
  },
  {
   "cell_type": "code",
   "execution_count": null,
   "id": "c4e098a3",
   "metadata": {},
   "outputs": [],
   "source": [
    "min_freq_item = min(freq_item.values())\n",
    "lowerbound = [key for key in freq_item.keys() if freq_item[key] == min_freq_item]\n",
    "print(\"No. of users who least often (%d time(s)) to give ratings : %d\" \n",
    "      %(min_freq_item, len(lowerbound)))"
   ]
  },
  {
   "cell_type": "code",
   "execution_count": null,
   "id": "5b23c6c1",
   "metadata": {},
   "outputs": [],
   "source": [
    "max_freq_item = max(freq_item.values())\n",
    "upperbound = [key for key in freq_item.keys() if freq_item[key] == max_freq_item]\n",
    "print(\"No. of users who most often (%d time(s)) to give ratings : %d\" \n",
    "      %(max_freq_item, len(upperbound)))\n",
    "upperbound = upperbound[0]"
   ]
  },
  {
   "cell_type": "code",
   "execution_count": null,
   "id": "82e66753",
   "metadata": {},
   "outputs": [],
   "source": [
    "dtrain[dtrain['itemID_ordinal'] == upperbound]"
   ]
  },
  {
   "cell_type": "markdown",
   "id": "b074a1d9",
   "metadata": {},
   "source": [
    "After inspecting the most often rated item, it is confirmed that it is not spammed with high or low ratings."
   ]
  },
  {
   "cell_type": "markdown",
   "id": "728134d1",
   "metadata": {},
   "source": [
    "### Scatter plots of userID in social network aganist their no. of following/being followed"
   ]
  },
  {
   "cell_type": "code",
   "execution_count": null,
   "id": "1e90831e",
   "metadata": {},
   "outputs": [],
   "source": [
    "freq_following = {}\n",
    "freq_followed = {}\n",
    "\n",
    "for i in range(0, n_user):\n",
    "    freq_following[i] = len(following[i])\n",
    "    \n",
    "for i in range(0, n_user):\n",
    "    freq_followed[i] = len(followedby[i])"
   ]
  },
  {
   "cell_type": "code",
   "execution_count": null,
   "id": "daa0ff66",
   "metadata": {},
   "outputs": [],
   "source": [
    "sns.scatterplot(freq_following.keys(), freq_following.values())\n",
    "plt.title(\"userID vs. No. of following\")\n",
    "plt.grid()\n",
    "plt.show()"
   ]
  },
  {
   "cell_type": "code",
   "execution_count": null,
   "id": "8988e01e",
   "metadata": {},
   "outputs": [],
   "source": [
    "min_following = min(freq_following.values())\n",
    "lowerbound = [key for key in freq_following.keys() if freq_following[key] == min_following]\n",
    "following_lowerbound = [key for key in freq_following.keys() if freq_following[key] == min_following + 1]\n",
    "print(\"No. of users who do not follow others : %d\" \n",
    "      %(len(lowerbound)))\n",
    "print(\"No. of users who least often (%d time(s)) to follow others : %d\" \n",
    "      %(min_following + 1, len(following_lowerbound)))"
   ]
  },
  {
   "cell_type": "code",
   "execution_count": null,
   "id": "17e20d30",
   "metadata": {},
   "outputs": [],
   "source": [
    "max_following = max(freq_following.values())\n",
    "upperbound = [key for key in freq_following.keys() if freq_following[key] == max_following]\n",
    "print(\"No. of users who are most often (%d time(s)) to follow others : %d\" \n",
    "      %(max_following, len(upperbound)))\n",
    "upperbound = upperbound[0]"
   ]
  },
  {
   "cell_type": "code",
   "execution_count": null,
   "id": "e9917dfc",
   "metadata": {
    "scrolled": true
   },
   "outputs": [],
   "source": [
    "dnetwork[dnetwork['from_ordinal'] == upperbound]"
   ]
  },
  {
   "cell_type": "code",
   "execution_count": null,
   "id": "bd567937",
   "metadata": {},
   "outputs": [],
   "source": [
    "sns.scatterplot(freq_followed.keys(), freq_followed.values())\n",
    "plt.title(\"userID vs. No. of being followed\")\n",
    "plt.grid()\n",
    "plt.show()"
   ]
  },
  {
   "cell_type": "code",
   "execution_count": null,
   "id": "8979d5c2",
   "metadata": {},
   "outputs": [],
   "source": [
    "min_followed = min(freq_followed.values())\n",
    "lowerbound = [key for key in freq_followed.keys() if freq_followed[key] == min_followed]\n",
    "followed_lowerbound = [key for key in freq_followed.keys() if freq_followed[key] == min_followed + 1]\n",
    "print(\"No. of users who are not followed by others : %d\" \n",
    "      %(len(lowerbound)))\n",
    "print(\"No. of users who are least often (%d time) to be followed by others : %d\" \n",
    "      %(min_followed + 1, len(followed_lowerbound)))"
   ]
  },
  {
   "cell_type": "code",
   "execution_count": null,
   "id": "cf1853b6",
   "metadata": {},
   "outputs": [],
   "source": [
    "max_followed = max(freq_followed.values())\n",
    "upperbound = [key for key in freq_followed.keys() if freq_followed[key] == max_followed]\n",
    "print(\"No. of users who are most often (%d time(s)) to be followed by others : %d\" \n",
    "      %(max_followed, len(upperbound)))\n",
    "upperbound = upperbound[0]"
   ]
  },
  {
   "cell_type": "code",
   "execution_count": null,
   "id": "12bd5389",
   "metadata": {},
   "outputs": [],
   "source": [
    "dnetwork[dnetwork['to_ordinal'] == upperbound]"
   ]
  },
  {
   "cell_type": "code",
   "execution_count": null,
   "id": "b864cd5a-c32a-4325-8b1c-90c8097eaff7",
   "metadata": {},
   "outputs": [],
   "source": [
    "dtrain.sample(5).T"
   ]
  },
  {
   "cell_type": "markdown",
   "id": "c0943e62",
   "metadata": {},
   "source": [
    "## Analysis using feature means"
   ]
  },
  {
   "cell_type": "markdown",
   "id": "98fea1ce-a9e5-4fd7-b3f7-d038f479da99",
   "metadata": {},
   "source": [
    "### Data pre-processing"
   ]
  },
  {
   "cell_type": "code",
   "execution_count": null,
   "id": "c8abe488-b896-42e0-a95b-c00689cf6522",
   "metadata": {},
   "outputs": [],
   "source": [
    "train_tuple = np.array(dtrain[['userID_ordinal', 'itemID_ordinal', 'genre_ordinal', 'month_ordinal']].astype(int))\n",
    "train_rating = np.array(dtrain['rating'].values)\n",
    "test_tuple = np.array(dtest[['userID_ordinal', 'itemID_ordinal', 'genre_ordinal', 'month_ordinal']].astype(int))"
   ]
  },
  {
   "cell_type": "markdown",
   "id": "1dbc97d7",
   "metadata": {
    "tags": []
   },
   "source": [
    "### Global Mean"
   ]
  },
  {
   "cell_type": "code",
   "execution_count": null,
   "id": "7acc968f",
   "metadata": {},
   "outputs": [],
   "source": [
    "from baseline import glb_mean\n",
    "glb_ave = glb_mean()\n",
    "glb_ave.fit(train_rating)\n",
    "pred_rating = glb_ave.predict(train_tuple)\n",
    "print(f\"RMSE for global mean: {rmse(pred_rating, train_rating)}\")"
   ]
  },
  {
   "cell_type": "markdown",
   "id": "d9cf1017",
   "metadata": {
    "tags": []
   },
   "source": [
    "### User Mean"
   ]
  },
  {
   "cell_type": "code",
   "execution_count": null,
   "id": "79596da2",
   "metadata": {},
   "outputs": [],
   "source": [
    "from baseline import user_mean\n",
    "user_ave = user_mean(n_user + 1)\n",
    "user_ave.fit(train_tuple, train_rating)\n",
    "pred_rating = user_ave.predict(train_tuple)\n",
    "print(f\"RMSE for user mean: {rmse(pred_rating, train_rating)}\")"
   ]
  },
  {
   "cell_type": "markdown",
   "id": "0a329fdf-38f6-42c8-b304-180c0ba9628a",
   "metadata": {
    "tags": []
   },
   "source": [
    "#### James-Stein Estimator for user mean"
   ]
  },
  {
   "cell_type": "code",
   "execution_count": null,
   "id": "b06137a2-8429-4c89-be9a-38b561ab581c",
   "metadata": {},
   "outputs": [],
   "source": [
    "pred_rating = np.array(dtrain[\"userID_JS\"].values)\n",
    "print(f\"RMSE for user mean: {rmse(pred_rating, train_rating)}\")"
   ]
  },
  {
   "cell_type": "markdown",
   "id": "8fc4e7c7",
   "metadata": {},
   "source": [
    "### Item Mean"
   ]
  },
  {
   "cell_type": "code",
   "execution_count": null,
   "id": "ba3c08fa",
   "metadata": {
    "tags": []
   },
   "outputs": [],
   "source": [
    "from baseline import item_mean\n",
    "item_ave = item_mean(n_item + 1)\n",
    "item_ave.fit(train_tuple, train_rating)\n",
    "pred_rating = item_ave.predict(train_tuple)\n",
    "print(f\"RMSE for item mean: {rmse(pred_rating, train_rating)}\")"
   ]
  },
  {
   "cell_type": "markdown",
   "id": "54538ff0-5360-4c6d-a7f0-5d8dc40301be",
   "metadata": {
    "tags": []
   },
   "source": [
    "#### James-Stein Estimator for item mean"
   ]
  },
  {
   "cell_type": "code",
   "execution_count": null,
   "id": "8ec8a097-2c69-4937-bbd6-eb7386a8f37f",
   "metadata": {},
   "outputs": [],
   "source": [
    "pred_rating = np.array(dtrain[\"itemID_JS\"].values)\n",
    "print(f\"RMSE for user mean: {rmse(pred_rating, train_rating)}\")"
   ]
  },
  {
   "cell_type": "markdown",
   "id": "a28c94be",
   "metadata": {},
   "source": [
    "### Genre Mean"
   ]
  },
  {
   "cell_type": "code",
   "execution_count": null,
   "id": "7c1f8393",
   "metadata": {},
   "outputs": [],
   "source": [
    "from baseline import genre_mean\n",
    "genre_ave = genre_mean(n_genre)\n",
    "genre_ave.fit(train_tuple, train_rating)\n",
    "pred_rating = genre_ave.predict(train_tuple)\n",
    "print(f\"RMSE for genre mean: {rmse(pred_rating, train_rating)}\")"
   ]
  },
  {
   "cell_type": "markdown",
   "id": "cb23e670-1a76-4b32-bfe4-4bd072254db0",
   "metadata": {
    "tags": []
   },
   "source": [
    "#### James-Stein Estimator for genre mean"
   ]
  },
  {
   "cell_type": "code",
   "execution_count": null,
   "id": "6a511ffe-6c5f-46bd-a4fa-1b39836ebf60",
   "metadata": {},
   "outputs": [],
   "source": [
    "pred_rating = np.array(dtrain[\"genre_JS\"].values)\n",
    "print(f\"RMSE for user mean: {rmse(pred_rating, train_rating)}\")"
   ]
  },
  {
   "cell_type": "markdown",
   "id": "397ca92e-45a3-4928-a48f-8b37051e67c1",
   "metadata": {
    "tags": []
   },
   "source": [
    "### Month mean"
   ]
  },
  {
   "cell_type": "code",
   "execution_count": null,
   "id": "4e28e739",
   "metadata": {},
   "outputs": [],
   "source": [
    "from baseline import month_mean\n",
    "month_ave = month_mean(n_month)\n",
    "month_ave.fit(train_tuple, train_rating)\n",
    "pred_rating = month_ave.predict(train_tuple)\n",
    "print(f\"RMSE for month mean: {rmse(pred_rating, train_rating)}\")"
   ]
  },
  {
   "cell_type": "markdown",
   "id": "cf383c7f-ff72-418d-be71-1698a56d3985",
   "metadata": {
    "tags": []
   },
   "source": [
    "#### James-Stein Estimator for month mean"
   ]
  },
  {
   "cell_type": "code",
   "execution_count": null,
   "id": "d124db40-4ad5-4e4a-9364-0b6f17bedb84",
   "metadata": {},
   "outputs": [],
   "source": [
    "pred_rating = np.array(dtrain[\"month_JS\"].values)\n",
    "print(f\"RMSE for user mean: {rmse(pred_rating, train_rating)}\")"
   ]
  },
  {
   "cell_type": "markdown",
   "id": "e0ed2257",
   "metadata": {},
   "source": [
    "user and item mean are the lowest while month mean the the largest. JS estimator gives larger RMSE than \\bar{x}"
   ]
  },
  {
   "cell_type": "markdown",
   "id": "3035972d",
   "metadata": {},
   "source": [
    "## Neural Network Model"
   ]
  },
  {
   "cell_type": "markdown",
   "id": "69e28355-56e6-4c7a-b896-f46672f1cb76",
   "metadata": {},
   "source": [
    "### Latent Factor Model"
   ]
  },
  {
   "cell_type": "code",
   "execution_count": null,
   "id": "88b78767",
   "metadata": {},
   "outputs": [],
   "source": [
    "import tensorflow as tf\n",
    "from tensorflow import keras\n",
    "from LFactorNet import LFactorNet"
   ]
  },
  {
   "cell_type": "code",
   "execution_count": null,
   "id": "8019d45c",
   "metadata": {},
   "outputs": [],
   "source": [
    "## compile\n",
    "model = LFactorNet(num_users=n_user, num_items=n_item, \n",
    "                      num_genre=n_genre, num_month=n_month, \n",
    "                      embedding_size=400)\n",
    "\n",
    "metrics = [keras.metrics.RootMeanSquaredError(name='rmse')]\n",
    "\n",
    "model.compile(optimizer=keras.optimizers.Adam(1e-3), \n",
    "              loss=keras.losses.MeanSquaredError(),\n",
    "              metrics=metrics\n",
    "              )"
   ]
  },
  {
   "cell_type": "code",
   "execution_count": null,
   "id": "658a52b0",
   "metadata": {},
   "outputs": [],
   "source": [
    "train_tuple = np.array(dtrain[['userID_ordinal', 'itemID_ordinal', \n",
    "                               'genre_ordinal', 'month_ordinal']].values)"
   ]
  },
  {
   "cell_type": "code",
   "execution_count": null,
   "id": "1c826ba0",
   "metadata": {},
   "outputs": [],
   "source": [
    "callbacks = [keras.callbacks.EarlyStopping( \n",
    "    monitor='val_rmse', min_delta=0, patience=3, verbose=1, \n",
    "    mode='min', baseline=None, restore_best_weights=True)]\n",
    "\n",
    "history = model.fit(\n",
    "    x=train_tuple,\n",
    "    y=train_rating,\n",
    "    batch_size=50,\n",
    "    epochs=100,\n",
    "    verbose=2,\n",
    "    validation_split=.2)"
   ]
  },
  {
   "cell_type": "code",
   "execution_count": null,
   "id": "a250314e",
   "metadata": {},
   "outputs": [],
   "source": [
    "test_pair = np.array(dtest[['userID_ordinal', 'itemID_ordinal', \n",
    "                            'genre_ordinal', 'month_ordinal']].values)\n",
    "pred_rating = model.predict(test_pair)\n",
    "\n"
   ]
  },
  {
   "cell_type": "markdown",
   "id": "9c513162-88a1-4ac0-ab6b-4c86c6610cb8",
   "metadata": {},
   "source": [
    "The score is 1.79166 which shows it is completely insufficient to predict ratings by only using latent factor."
   ]
  },
  {
   "cell_type": "code",
   "execution_count": null,
   "id": "ab72d452-3d70-48b8-a539-cc34e6e56049",
   "metadata": {},
   "outputs": [],
   "source": [
    "dtrain.sample(5).T"
   ]
  },
  {
   "cell_type": "markdown",
   "id": "a6b7c697-f19d-475a-aa6b-751c2abf63c4",
   "metadata": {},
   "source": [
    "### TTowerRS with bias regularizer on dense layers and collective filtering layers"
   ]
  },
  {
   "cell_type": "markdown",
   "id": "d600fa34-507d-4dda-96a1-1379aa2d35fa",
   "metadata": {},
   "source": [
    "### TTowerRS CV"
   ]
  },
  {
   "cell_type": "code",
   "execution_count": null,
   "id": "26f537dd-6bca-4f09-ae88-7676db0929ee",
   "metadata": {},
   "outputs": [],
   "source": [
    "## user_cont_feat, item_cont_feat, user_cate_feat, item_cate_feat\n",
    "\n",
    "train_input = [dtrain[['userID_freq', 'userID_mean', 'userID_JS', 'month_freq']].values,\n",
    "               dtrain[['following_no', 'followedby_no', 'following_mean', 'follower_mean']].values,\n",
    "               dtrain[['userID_ordinal', 'month_ordinal']].astype(int).values,\n",
    "               dtrain[['itemID_ordinal', 'genre_ordinal']].astype(int).values\n",
    "              ]"
   ]
  },
  {
   "cell_type": "code",
   "execution_count": null,
   "id": "d7291ac5-6a14-42e4-8304-f95141e138f2",
   "metadata": {},
   "outputs": [],
   "source": [
    "from TTowerRS import TTowerRS_CV, TTowerRS\n",
    "tt_cv = TTowerRS_CV(n_user=n_user, n_item=n_item, n_genre=n_genre, n_month=n_month, embedding_sizes=[150, 200], dense_sizes=[150, 200], \n",
    "                 embed_regs=[1e-2], dense_regs=[1e-2], fc_regs=[1e-2])\n",
    "\n",
    "tt_cv.grid_search(train_input, train_rating)"
   ]
  },
  {
   "cell_type": "markdown",
   "id": "d8891065-0769-4363-af79-e55800bea5b9",
   "metadata": {},
   "source": [
    "### Implementation with best parameter combination"
   ]
  },
  {
   "cell_type": "code",
   "execution_count": null,
   "id": "7fcae687-0638-4b4e-b067-4b249ac4b0be",
   "metadata": {},
   "outputs": [],
   "source": [
    "model = TTowerRS(n_user=n_user, n_item=n_item, n_genre=n_genre, n_month=n_month, \n",
    "                 embedding_size=200, dense_size=200, \n",
    "                 embed_reg=1e-2, dense_reg=1e-2, fc_reg=1e-2)\n",
    "\n",
    "metrics = [\n",
    "    keras.metrics.RootMeanSquaredError(name='rmse')\n",
    "]\n",
    "\n",
    "model.compile(\n",
    "    optimizer=keras.optimizers.Adam(1e-3), \n",
    "    loss=tf.keras.losses.MeanSquaredError(), \n",
    "    metrics=metrics\n",
    ")\n",
    "\n",
    "callbacks = [keras.callbacks.EarlyStopping( \n",
    "    monitor='rmse', min_delta=0, patience=10, verbose=1, \n",
    "    mode='min', baseline=None, restore_best_weights=True)]\n",
    "\n",
    "history = model.fit(\n",
    "    x=train_input,\n",
    "    y=train_rating,\n",
    "    callbacks=callbacks,\n",
    "    batch_size=64,\n",
    "    epochs=100,\n",
    "    verbose=2\n",
    ")\n",
    "\n"
   ]
  },
  {
   "cell_type": "code",
   "execution_count": null,
   "id": "31696f7d-734b-48e0-b76b-ad48f9e37665",
   "metadata": {},
   "outputs": [],
   "source": [
    "## user_cont_feat, item_cont_feat, user_cate_feat, item_cate_feat\n",
    "\n",
    "test_input = [dtest[['userID_freq', 'userID_mean', 'userID_JS', 'month_freq']].values,\n",
    "              dtest[['following_no', 'followedby_no', 'following_mean', 'follower_mean']].values,\n",
    "              dtest[['userID_ordinal', 'month_ordinal']].astype(int).values, \n",
    "              dtest[['itemID_ordinal', 'genre_ordinal']].astype(int).values\n",
    "             ]"
   ]
  },
  {
   "cell_type": "code",
   "execution_count": null,
   "id": "d15f3755-d404-4ec0-a163-3ca79638d45d",
   "metadata": {},
   "outputs": [],
   "source": [
    "pred_rating = model.predict(test_input)"
   ]
  },
  {
   "cell_type": "markdown",
   "id": "ee5e4655-a43a-4df2-8082-80e32964fdcc",
   "metadata": {},
   "source": [
    "The score without network analysis indicator is 1.04297.\n",
    "\n",
    "The score with network analysis indicator (as user continuous feature) is 1.14256."
   ]
  },
  {
   "cell_type": "code",
   "execution_count": null,
   "id": "e33d9111",
   "metadata": {},
   "outputs": [],
   "source": [
    "# submission\n",
    "sub = pd.Series(pred_rating.flatten())\n",
    "sub = {\"ID\" : pd.Series(np.arange(0,13899)), \"rating\" : sub}\n",
    "sub = pd.concat(sub, axis = 1)"
   ]
  },
  {
   "cell_type": "code",
   "execution_count": null,
   "id": "eb1c0c95",
   "metadata": {},
   "outputs": [],
   "source": [
    "sub.to_csv(\"sub.csv\", index = False)"
   ]
  },
  {
   "cell_type": "markdown",
   "id": "17c5158c-3cbb-4304-a58b-d4387350375e",
   "metadata": {
    "tags": []
   },
   "source": [
    "### TTowerRS with modified structure "
   ]
  },
  {
   "cell_type": "code",
   "execution_count": null,
   "id": "1b921c02-1675-4444-a73e-32c6ef184376",
   "metadata": {},
   "outputs": [],
   "source": [
    "## user_cont_feat, item_cont_feat, network_cont_feat, user_cate_feat, item_cate_feat\n",
    "\n",
    "train_input = [dtrain[['userID_freq', 'userID_mean', 'userID_JS', 'month_freq', \n",
    "                       'following_no', 'followedby_no', 'following_mean', 'follower_mean']].values,\n",
    "               dtrain[['itemID_freq', 'itemID_mean', 'itemID_JS', 'genre_freq']].values,\n",
    "               dtrain[['undirected_degree', 'directed_degree', \n",
    "                       'undirected_betweenness_centrality', 'directed_betweenness_centrality', \n",
    "                       'undirected_clust_coefficient', 'directed_clust_coefficient', \n",
    "                       'undirected_closeness_centrality', 'directed_closeness_centrality', \n",
    "                       'undirected_eigenvector_centrality', 'directed_eigenvector_centrality', \n",
    "                       'undirected_degree_centrality', 'directed_degree_centrality']].values, \n",
    "               dtrain[['userID_ordinal', 'month_ordinal']].astype(int).values,\n",
    "               dtrain[['itemID_ordinal', 'genre_ordinal']].astype(int).values\n",
    "               ]"
   ]
  },
  {
   "cell_type": "markdown",
   "id": "16ec76d0-4ffc-48bb-9a04-b82ef42a7428",
   "metadata": {},
   "source": [
    "### TTTowerRSNew CV"
   ]
  },
  {
   "cell_type": "code",
   "execution_count": null,
   "id": "fd78f3bc-3f0f-4ec3-82fa-72f1d544bf2c",
   "metadata": {},
   "outputs": [],
   "source": [
    "from TTowerRSNew import TTowerRSNew_CV, TTowerRSNew\n",
    "tt_cv = TTowerRSNew_CV(n_user=n_user, n_item=n_item, n_genre=n_genre, n_month=n_month, embedding_sizes=[150, 200], dense_sizes=[150, 200], \n",
    "                 embed_regs=[1e-2], dense_regs=[1e-2], fc_regs=[1e-2])\n",
    "\n",
    "tt_cv.grid_search(train_input, train_rating)"
   ]
  },
  {
   "cell_type": "code",
   "execution_count": null,
   "id": "8b1418d2-aa4f-41bd-8561-94f28c124ceb",
   "metadata": {},
   "outputs": [],
   "source": [
    "## user_cont_feat, item_cont_feat, network_cont_feat, user_cate_feat, item_cate_feat\n",
    "\n",
    "train_input = [dtrain[['userID_freq', 'userID_mean', 'userID_JS', 'month_freq', \n",
    "                       'following_no', 'followedby_no', 'following_mean', 'follower_mean']].values,\n",
    "               dtrain[['itemID_freq', 'itemID_mean', 'itemID_JS', 'genre_freq']].values,\n",
    "               dtrain[['undirected_degree', 'directed_degree', \n",
    "                       'undirected_betweenness_centrality', 'directed_betweenness_centrality', \n",
    "                       'undirected_clust_coefficient', 'directed_clust_coefficient', \n",
    "                       'undirected_closeness_centrality', 'directed_closeness_centrality', \n",
    "                       'undirected_eigenvector_centrality', 'directed_eigenvector_centrality', \n",
    "                       'undirected_degree_centrality', 'directed_degree_centrality']].values, \n",
    "               dtrain[['userID_ordinal', 'month_ordinal']].astype(int).values,\n",
    "               dtrain[['itemID_ordinal', 'genre_ordinal']].astype(int).values\n",
    "               ]"
   ]
  },
  {
   "cell_type": "code",
   "execution_count": null,
   "id": "f8f47ebc-6400-4d2f-845b-ecfefb6e532e",
   "metadata": {},
   "outputs": [],
   "source": [
    "model = TTowerRSNew(n_user=n_user, n_item=n_item, n_genre=n_genre, n_month=n_month, \n",
    "                 embedding_size=300, dense_size=300, \n",
    "                 embed_reg=1e-2, dense_reg=1e-2, fc_reg=1e-2)\n",
    "\n",
    "metrics = [\n",
    "    keras.metrics.RootMeanSquaredError(name='rmse')\n",
    "]\n",
    "\n",
    "model.compile(\n",
    "    optimizer=keras.optimizers.Adam(1e-2), \n",
    "    loss=tf.keras.losses.MeanSquaredError(), \n",
    "    metrics=metrics\n",
    ")\n",
    "\n",
    "callbacks = [keras.callbacks.EarlyStopping( \n",
    "    monitor='rmse', min_delta=0, patience=10, verbose=1, \n",
    "    mode='min', baseline=None, restore_best_weights=True)]\n",
    "\n",
    "history = model.fit(\n",
    "    x=train_input,\n",
    "    y=train_rating,\n",
    "    callbacks=callbacks,\n",
    "    batch_size=64,\n",
    "    epochs=100,\n",
    "    verbose=2\n",
    ")"
   ]
  }
 ],
 "metadata": {
  "kernelspec": {
   "display_name": "Python 3 (ipykernel)",
   "language": "python",
   "name": "python3"
  },
  "language_info": {
   "codemirror_mode": {
    "name": "ipython",
    "version": 3
   },
   "file_extension": ".py",
   "mimetype": "text/x-python",
   "name": "python",
   "nbconvert_exporter": "python",
   "pygments_lexer": "ipython3",
   "version": "3.9.7"
  }
 },
 "nbformat": 4,
 "nbformat_minor": 5
}
